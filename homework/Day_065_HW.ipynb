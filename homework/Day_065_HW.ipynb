{
 "cells": [
  {
   "cell_type": "markdown",
   "metadata": {},
   "source": [
    "# 作業:\n",
    "嘗試調整參數:  \n",
    "sg:sg=1表示採用skip-gram,sg=0 表示採用cbow  \n",
    "window:能往左往右看幾個字的意思 "
   ]
  },
  {
   "cell_type": "code",
   "execution_count": 1,
   "metadata": {},
   "outputs": [
    {
     "name": "stdout",
     "output_type": "stream",
     "text": [
      "Collecting gensim\n",
      "\u001b[?25l  Downloading https://files.pythonhosted.org/packages/ad/63/5a4b694ac7d0dd0a7d061ba6af0dbd057379da21c7ea7efd44ae3299f87d/gensim-3.7.1-cp37-cp37m-macosx_10_6_intel.macosx_10_9_intel.macosx_10_9_x86_64.macosx_10_10_intel.macosx_10_10_x86_64.whl (24.6MB)\n",
      "\u001b[K    100% |████████████████████████████████| 24.6MB 1.2MB/s ta 0:00:011    78% |█████████████████████████       | 19.3MB 4.5MB/s eta 0:00:02    94% |██████████████████████████████▏ | 23.3MB 16.5MB/s eta 0:00:01\n",
      "\u001b[?25hRequirement already satisfied: numpy>=1.11.3 in /Users/amber/Desktop/anaconda3/lib/python3.7/site-packages (from gensim) (1.15.1)\n",
      "Collecting smart-open>=1.7.0 (from gensim)\n",
      "\u001b[?25l  Downloading https://files.pythonhosted.org/packages/ff/c8/de7dcf34d4b5f2ae94fe1055e0d6418fb97a63c9dc3428edd264704983a2/smart_open-1.8.0.tar.gz (40kB)\n",
      "\u001b[K    100% |████████████████████████████████| 40kB 1.8MB/s ta 0:00:01\n",
      "\u001b[?25hRequirement already satisfied: six>=1.5.0 in /Users/amber/Desktop/anaconda3/lib/python3.7/site-packages (from gensim) (1.11.0)\n",
      "Requirement already satisfied: scipy>=0.18.1 in /Users/amber/Desktop/anaconda3/lib/python3.7/site-packages (from gensim) (1.1.0)\n",
      "Requirement already satisfied: boto>=2.32 in /Users/amber/Desktop/anaconda3/lib/python3.7/site-packages (from smart-open>=1.7.0->gensim) (2.49.0)\n",
      "Collecting bz2file (from smart-open>=1.7.0->gensim)\n",
      "  Downloading https://files.pythonhosted.org/packages/61/39/122222b5e85cd41c391b68a99ee296584b2a2d1d233e7ee32b4532384f2d/bz2file-0.98.tar.gz\n",
      "Requirement already satisfied: requests in /Users/amber/Desktop/anaconda3/lib/python3.7/site-packages (from smart-open>=1.7.0->gensim) (2.19.1)\n",
      "Collecting boto3 (from smart-open>=1.7.0->gensim)\n",
      "\u001b[?25l  Downloading https://files.pythonhosted.org/packages/59/25/45dbe60b2241556c0bd69d1dfc226267365140cda89bd2e34bf76ea418a8/boto3-1.9.120-py2.py3-none-any.whl (128kB)\n",
      "\u001b[K    100% |████████████████████████████████| 133kB 2.9MB/s ta 0:00:01\n",
      "\u001b[?25hRequirement already satisfied: idna<2.8,>=2.5 in /Users/amber/Desktop/anaconda3/lib/python3.7/site-packages (from requests->smart-open>=1.7.0->gensim) (2.7)\n",
      "Requirement already satisfied: chardet<3.1.0,>=3.0.2 in /Users/amber/Desktop/anaconda3/lib/python3.7/site-packages (from requests->smart-open>=1.7.0->gensim) (3.0.4)\n",
      "Requirement already satisfied: certifi>=2017.4.17 in /Users/amber/Desktop/anaconda3/lib/python3.7/site-packages (from requests->smart-open>=1.7.0->gensim) (2018.8.24)\n",
      "Requirement already satisfied: urllib3<1.24,>=1.21.1 in /Users/amber/Desktop/anaconda3/lib/python3.7/site-packages (from requests->smart-open>=1.7.0->gensim) (1.23)\n",
      "Collecting botocore<1.13.0,>=1.12.120 (from boto3->smart-open>=1.7.0->gensim)\n",
      "\u001b[?25l  Downloading https://files.pythonhosted.org/packages/23/34/f93fdd88dd35e518054ea9f353b6bb4b4bd8721ca24cd63a8adf373d782d/botocore-1.12.120-py2.py3-none-any.whl (5.3MB)\n",
      "\u001b[K    100% |████████████████████████████████| 5.3MB 3.4MB/s ta 0:00:011    89% |████████████████████████████▉   | 4.8MB 1.5MB/s eta 0:00:01\n",
      "\u001b[?25hCollecting s3transfer<0.3.0,>=0.2.0 (from boto3->smart-open>=1.7.0->gensim)\n",
      "\u001b[?25l  Downloading https://files.pythonhosted.org/packages/d7/de/5737f602e22073ecbded7a0c590707085e154e32b68d86545dcc31004c02/s3transfer-0.2.0-py2.py3-none-any.whl (69kB)\n",
      "\u001b[K    100% |████████████████████████████████| 71kB 4.3MB/s ta 0:00:011\n",
      "\u001b[?25hCollecting jmespath<1.0.0,>=0.7.1 (from boto3->smart-open>=1.7.0->gensim)\n",
      "  Downloading https://files.pythonhosted.org/packages/83/94/7179c3832a6d45b266ddb2aac329e101367fbdb11f425f13771d27f225bb/jmespath-0.9.4-py2.py3-none-any.whl\n",
      "Requirement already satisfied: python-dateutil<3.0.0,>=2.1; python_version >= \"2.7\" in /Users/amber/Desktop/anaconda3/lib/python3.7/site-packages (from botocore<1.13.0,>=1.12.120->boto3->smart-open>=1.7.0->gensim) (2.7.3)\n",
      "Requirement already satisfied: docutils>=0.10 in /Users/amber/Desktop/anaconda3/lib/python3.7/site-packages (from botocore<1.13.0,>=1.12.120->boto3->smart-open>=1.7.0->gensim) (0.14)\n",
      "Building wheels for collected packages: smart-open, bz2file\n",
      "  Running setup.py bdist_wheel for smart-open ... \u001b[?25ldone\n",
      "\u001b[?25h  Stored in directory: /Users/amber/Library/Caches/pip/wheels/f7/a6/ff/9ab5842c14e50e95a06a4675b0b4a689c9cab6064dac2b01d0\n",
      "  Running setup.py bdist_wheel for bz2file ... \u001b[?25ldone\n",
      "\u001b[?25h  Stored in directory: /Users/amber/Library/Caches/pip/wheels/81/75/d6/e1317bf09bf1af5a30befc2a007869fa6e1f516b8f7c591cb9\n",
      "Successfully built smart-open bz2file\n",
      "\u001b[31mtwisted 18.7.0 requires PyHamcrest>=1.9.0, which is not installed.\u001b[0m\n",
      "Installing collected packages: bz2file, jmespath, botocore, s3transfer, boto3, smart-open, gensim\n",
      "Successfully installed boto3-1.9.120 botocore-1.12.120 bz2file-0.98 gensim-3.7.1 jmespath-0.9.4 s3transfer-0.2.0 smart-open-1.8.0\n",
      "\u001b[33mYou are using pip version 10.0.1, however version 19.0.3 is available.\n",
      "You should consider upgrading via the 'pip install --upgrade pip' command.\u001b[0m\n"
     ]
    }
   ],
   "source": [
    "!pip install gensim"
   ]
  },
  {
   "cell_type": "code",
   "execution_count": 2,
   "metadata": {},
   "outputs": [],
   "source": [
    "import gensim, logging\n",
    "from gensim.models import word2vec"
   ]
  },
  {
   "cell_type": "code",
   "execution_count": 5,
   "metadata": {},
   "outputs": [
    {
     "name": "stderr",
     "output_type": "stream",
     "text": [
      "2019-03-24 15:17:28,780 : INFO : collecting all words and their counts\n",
      "2019-03-24 15:17:28,782 : INFO : PROGRESS: at sentence #0, processed 0 words, keeping 0 word types\n",
      "2019-03-24 15:17:28,783 : INFO : collected 3 word types from a corpus of 4 raw words and 2 sentences\n",
      "2019-03-24 15:17:28,784 : INFO : Loading a fresh vocabulary\n",
      "2019-03-24 15:17:28,785 : INFO : effective_min_count=1 retains 3 unique words (100% of original 3, drops 0)\n",
      "2019-03-24 15:17:28,787 : INFO : effective_min_count=1 leaves 4 word corpus (100% of original 4, drops 0)\n",
      "2019-03-24 15:17:28,788 : INFO : deleting the raw counts dictionary of 3 items\n",
      "2019-03-24 15:17:28,789 : INFO : sample=0.001 downsamples 3 most-common words\n",
      "2019-03-24 15:17:28,793 : INFO : downsampling leaves estimated 0 word corpus (5.7% of prior 4)\n",
      "2019-03-24 15:17:28,794 : INFO : estimated required memory for 3 words and 256 dimensions: 7644 bytes\n",
      "2019-03-24 15:17:28,795 : INFO : resetting layer weights\n",
      "2019-03-24 15:17:28,797 : INFO : training model with 4 workers on 3 vocabulary and 256 features, using sg=1 hs=0 sample=0.001 negative=5 window=5\n",
      "2019-03-24 15:17:28,802 : INFO : worker thread finished; awaiting finish of 3 more threads\n",
      "2019-03-24 15:17:28,804 : INFO : worker thread finished; awaiting finish of 2 more threads\n",
      "2019-03-24 15:17:28,806 : INFO : worker thread finished; awaiting finish of 1 more threads\n",
      "2019-03-24 15:17:28,807 : INFO : worker thread finished; awaiting finish of 0 more threads\n",
      "2019-03-24 15:17:28,808 : INFO : EPOCH - 1 : training on 4 raw words (0 effective words) took 0.0s, 0 effective words/s\n",
      "2019-03-24 15:17:28,816 : INFO : worker thread finished; awaiting finish of 3 more threads\n",
      "2019-03-24 15:17:28,817 : INFO : worker thread finished; awaiting finish of 2 more threads\n",
      "2019-03-24 15:17:28,819 : INFO : worker thread finished; awaiting finish of 1 more threads\n",
      "2019-03-24 15:17:28,820 : INFO : worker thread finished; awaiting finish of 0 more threads\n",
      "2019-03-24 15:17:28,822 : INFO : EPOCH - 2 : training on 4 raw words (0 effective words) took 0.0s, 0 effective words/s\n",
      "2019-03-24 15:17:28,826 : INFO : worker thread finished; awaiting finish of 3 more threads\n",
      "2019-03-24 15:17:28,827 : INFO : worker thread finished; awaiting finish of 2 more threads\n",
      "2019-03-24 15:17:28,828 : INFO : worker thread finished; awaiting finish of 1 more threads\n",
      "2019-03-24 15:17:28,830 : INFO : worker thread finished; awaiting finish of 0 more threads\n",
      "2019-03-24 15:17:28,832 : INFO : EPOCH - 3 : training on 4 raw words (1 effective words) took 0.0s, 162 effective words/s\n",
      "2019-03-24 15:17:28,837 : INFO : worker thread finished; awaiting finish of 3 more threads\n",
      "2019-03-24 15:17:28,839 : INFO : worker thread finished; awaiting finish of 2 more threads\n",
      "2019-03-24 15:17:28,839 : INFO : worker thread finished; awaiting finish of 1 more threads\n",
      "2019-03-24 15:17:28,840 : INFO : worker thread finished; awaiting finish of 0 more threads\n",
      "2019-03-24 15:17:28,841 : INFO : EPOCH - 4 : training on 4 raw words (0 effective words) took 0.0s, 0 effective words/s\n",
      "2019-03-24 15:17:28,845 : INFO : worker thread finished; awaiting finish of 3 more threads\n",
      "2019-03-24 15:17:28,847 : INFO : worker thread finished; awaiting finish of 2 more threads\n",
      "2019-03-24 15:17:28,848 : INFO : worker thread finished; awaiting finish of 1 more threads\n",
      "2019-03-24 15:17:28,849 : INFO : worker thread finished; awaiting finish of 0 more threads\n",
      "2019-03-24 15:17:28,850 : INFO : EPOCH - 5 : training on 4 raw words (0 effective words) took 0.0s, 0 effective words/s\n",
      "2019-03-24 15:17:28,852 : INFO : training on a 20 raw words (1 effective words) took 0.1s, 19 effective words/s\n",
      "2019-03-24 15:17:28,853 : WARNING : under 10 jobs per worker: consider setting a smaller `batch_words' for smoother alpha decay\n"
     ]
    }
   ],
   "source": [
    "import gensim, logging  \n",
    "logging.basicConfig(format='%(asctime)s : %(levelname)s : %(message)s', level=logging.INFO)  \n",
    "sentences = [['I am a hero', 'sentence'], ['She is a teacher', 'sentence']] \n",
    "\n",
    "# train word2vec on the two sentences  \n",
    "model = word2vec.Word2Vec(sentences, size=256, min_count=1, window=5, workers=4, sg=1)  \n",
    "# sg=0 表示COBW, sg=1 表示skip-gram"
   ]
  },
  {
   "cell_type": "code",
   "execution_count": 6,
   "metadata": {},
   "outputs": [
    {
     "name": "stdout",
     "output_type": "stream",
     "text": [
      "Word2Vec(vocab=3, size=256, alpha=0.025)\n"
     ]
    }
   ],
   "source": [
    "print(model)"
   ]
  },
  {
   "cell_type": "code",
   "execution_count": 7,
   "metadata": {},
   "outputs": [
    {
     "name": "stderr",
     "output_type": "stream",
     "text": [
      "/Users/amber/Desktop/anaconda3/lib/python3.7/site-packages/ipykernel_launcher.py:1: DeprecationWarning: Call to deprecated `similarity` (Method will be removed in 4.0.0, use self.wv.similarity() instead).\n",
      "  \"\"\"Entry point for launching an IPython kernel.\n"
     ]
    },
    {
     "data": {
      "text/plain": [
       "0.056551095"
      ]
     },
     "execution_count": 7,
     "metadata": {},
     "output_type": "execute_result"
    }
   ],
   "source": [
    "model.similarity('I am a hero','She is a teacher')"
   ]
  },
  {
   "cell_type": "code",
   "execution_count": 8,
   "metadata": {},
   "outputs": [
    {
     "name": "stderr",
     "output_type": "stream",
     "text": [
      "2019-03-24 15:19:13,750 : INFO : saving Word2Vec object under mymodel, separately None\n",
      "2019-03-24 15:19:13,752 : INFO : not storing attribute vectors_norm\n",
      "2019-03-24 15:19:13,756 : INFO : not storing attribute cum_table\n",
      "2019-03-24 15:19:13,759 : INFO : saved mymodel\n",
      "2019-03-24 15:19:13,760 : INFO : loading Word2Vec object from mymodel\n",
      "2019-03-24 15:19:13,762 : INFO : loading wv recursively from mymodel.wv.* with mmap=None\n",
      "2019-03-24 15:19:13,763 : INFO : setting ignored attribute vectors_norm to None\n",
      "2019-03-24 15:19:13,765 : INFO : loading vocabulary recursively from mymodel.vocabulary.* with mmap=None\n",
      "2019-03-24 15:19:13,767 : INFO : loading trainables recursively from mymodel.trainables.* with mmap=None\n",
      "2019-03-24 15:19:13,768 : INFO : setting ignored attribute cum_table to None\n",
      "2019-03-24 15:19:13,770 : INFO : loaded mymodel\n"
     ]
    }
   ],
   "source": [
    "model.save('mymodel')  \n",
    "new_model = gensim.models.Word2Vec.load('mymodel')  "
   ]
  },
  {
   "cell_type": "code",
   "execution_count": null,
   "metadata": {},
   "outputs": [],
   "source": []
  }
 ],
 "metadata": {
  "kernelspec": {
   "display_name": "Python 3",
   "language": "python",
   "name": "python3"
  },
  "language_info": {
   "codemirror_mode": {
    "name": "ipython",
    "version": 3
   },
   "file_extension": ".py",
   "mimetype": "text/x-python",
   "name": "python",
   "nbconvert_exporter": "python",
   "pygments_lexer": "ipython3",
   "version": "3.7.0"
  }
 },
 "nbformat": 4,
 "nbformat_minor": 2
}
